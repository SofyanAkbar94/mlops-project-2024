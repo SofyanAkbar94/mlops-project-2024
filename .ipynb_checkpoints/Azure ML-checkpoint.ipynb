{
 "cells": [
  {
   "cell_type": "code",
   "execution_count": 1,
   "id": "793e2534-66b5-4455-bb45-2b8ebb3bd3ac",
   "metadata": {},
   "outputs": [
    {
     "name": "stdout",
     "output_type": "stream",
     "text": [
      "Collecting azure-ai-ml\n",
      "  Downloading azure_ai_ml-1.18.0-py3-none-any.whl (10.5 MB)\n",
      "     ---------------------------------------- 0.0/10.5 MB ? eta -:--:--\n",
      "     ---------------------------------------- 0.1/10.5 MB 2.6 MB/s eta 0:00:04\n",
      "      --------------------------------------- 0.2/10.5 MB 2.4 MB/s eta 0:00:05\n",
      "     - -------------------------------------- 0.3/10.5 MB 2.5 MB/s eta 0:00:05\n",
      "     - -------------------------------------- 0.4/10.5 MB 2.2 MB/s eta 0:00:05\n",
      "     - -------------------------------------- 0.4/10.5 MB 2.0 MB/s eta 0:00:05\n",
      "     - -------------------------------------- 0.4/10.5 MB 2.0 MB/s eta 0:00:05\n",
      "     - -------------------------------------- 0.4/10.5 MB 2.0 MB/s eta 0:00:05\n",
      "     - -------------------------------------- 0.4/10.5 MB 2.0 MB/s eta 0:00:05\n",
      "     - -------------------------------------- 0.4/10.5 MB 2.0 MB/s eta 0:00:05\n",
      "     - -------------------------------------- 0.4/10.5 MB 2.0 MB/s eta 0:00:05\n",
      "     - -------------------------------------- 0.5/10.5 MB 1.0 MB/s eta 0:00:10\n",
      "     -- ------------------------------------- 0.7/10.5 MB 1.3 MB/s eta 0:00:08\n",
      "     -- ------------------------------------- 0.8/10.5 MB 1.3 MB/s eta 0:00:08\n",
      "     --- ------------------------------------ 0.9/10.5 MB 1.4 MB/s eta 0:00:07\n",
      "     --- ------------------------------------ 1.0/10.5 MB 1.5 MB/s eta 0:00:07\n",
      "     --- ------------------------------------ 1.0/10.5 MB 1.4 MB/s eta 0:00:07\n",
      "     --- ------------------------------------ 1.0/10.5 MB 1.4 MB/s eta 0:00:07\n",
      "     ---- ----------------------------------- 1.2/10.5 MB 1.5 MB/s eta 0:00:07\n",
      "     ---- ----------------------------------- 1.3/10.5 MB 1.5 MB/s eta 0:00:07\n",
      "     ----- ---------------------------------- 1.4/10.5 MB 1.5 MB/s eta 0:00:06\n",
      "     ------ --------------------------------- 1.6/10.5 MB 1.7 MB/s eta 0:00:06\n",
      "     ------ --------------------------------- 1.7/10.5 MB 1.7 MB/s eta 0:00:06\n",
      "     ------- -------------------------------- 2.0/10.5 MB 1.9 MB/s eta 0:00:05\n",
      "     -------- ------------------------------- 2.2/10.5 MB 2.0 MB/s eta 0:00:05\n",
      "     -------- ------------------------------- 2.2/10.5 MB 2.0 MB/s eta 0:00:05\n",
      "     -------- ------------------------------- 2.2/10.5 MB 2.0 MB/s eta 0:00:05\n",
      "     -------- ------------------------------- 2.2/10.5 MB 2.0 MB/s eta 0:00:05\n",
      "     -------- ------------------------------- 2.3/10.5 MB 1.8 MB/s eta 0:00:05\n",
      "     --------- ------------------------------ 2.4/10.5 MB 1.8 MB/s eta 0:00:05\n",
      "     --------- ------------------------------ 2.5/10.5 MB 1.8 MB/s eta 0:00:05\n",
      "     ---------- ----------------------------- 2.7/10.5 MB 1.9 MB/s eta 0:00:05\n",
      "     ----------- ---------------------------- 3.0/10.5 MB 2.0 MB/s eta 0:00:04\n",
      "     ------------ --------------------------- 3.2/10.5 MB 2.1 MB/s eta 0:00:04\n",
      "     ------------ --------------------------- 3.3/10.5 MB 2.1 MB/s eta 0:00:04\n",
      "     ------------- -------------------------- 3.5/10.5 MB 2.1 MB/s eta 0:00:04\n",
      "     ------------- -------------------------- 3.6/10.5 MB 2.2 MB/s eta 0:00:04\n",
      "     --------------- ------------------------ 3.9/10.5 MB 2.3 MB/s eta 0:00:03\n",
      "     --------------- ------------------------ 4.1/10.5 MB 2.4 MB/s eta 0:00:03\n",
      "     ---------------- ----------------------- 4.4/10.5 MB 2.4 MB/s eta 0:00:03\n",
      "     ----------------- ---------------------- 4.6/10.5 MB 2.5 MB/s eta 0:00:03\n",
      "     ------------------ --------------------- 4.8/10.5 MB 2.6 MB/s eta 0:00:03\n",
      "     ------------------- -------------------- 5.0/10.5 MB 2.6 MB/s eta 0:00:03\n",
      "     -------------------- ------------------- 5.3/10.5 MB 2.6 MB/s eta 0:00:02\n",
      "     -------------------- ------------------- 5.5/10.5 MB 2.7 MB/s eta 0:00:02\n",
      "     --------------------- ------------------ 5.6/10.5 MB 2.7 MB/s eta 0:00:02\n",
      "     --------------------- ------------------ 5.8/10.5 MB 2.7 MB/s eta 0:00:02\n",
      "     ---------------------- ----------------- 5.9/10.5 MB 2.7 MB/s eta 0:00:02\n",
      "     ---------------------- ----------------- 5.9/10.5 MB 2.7 MB/s eta 0:00:02\n",
      "     ---------------------- ----------------- 6.0/10.5 MB 2.7 MB/s eta 0:00:02\n",
      "     ---------------------- ----------------- 6.0/10.5 MB 2.7 MB/s eta 0:00:02\n",
      "     ---------------------- ----------------- 6.0/10.5 MB 2.7 MB/s eta 0:00:02\n",
      "     ---------------------- ----------------- 6.0/10.5 MB 2.7 MB/s eta 0:00:02\n",
      "     ---------------------- ----------------- 6.0/10.5 MB 2.7 MB/s eta 0:00:02\n",
      "     ---------------------- ----------------- 6.0/10.5 MB 2.7 MB/s eta 0:00:02\n",
      "     ---------------------- ----------------- 6.0/10.5 MB 2.7 MB/s eta 0:00:02\n",
      "     ----------------------- ---------------- 6.2/10.5 MB 2.4 MB/s eta 0:00:02\n",
      "     ----------------------- ---------------- 6.2/10.5 MB 2.4 MB/s eta 0:00:02\n",
      "     ------------------------ --------------- 6.3/10.5 MB 2.4 MB/s eta 0:00:02\n",
      "     ------------------------ --------------- 6.3/10.5 MB 2.3 MB/s eta 0:00:02\n",
      "     ------------------------ --------------- 6.3/10.5 MB 2.3 MB/s eta 0:00:02\n",
      "     ------------------------ --------------- 6.5/10.5 MB 2.3 MB/s eta 0:00:02\n",
      "     ------------------------ --------------- 6.6/10.5 MB 2.3 MB/s eta 0:00:02\n",
      "     ------------------------- -------------- 6.7/10.5 MB 2.3 MB/s eta 0:00:02\n",
      "     ------------------------- -------------- 6.7/10.5 MB 2.3 MB/s eta 0:00:02\n",
      "     -------------------------- ------------- 6.9/10.5 MB 2.3 MB/s eta 0:00:02\n",
      "     -------------------------- ------------- 6.9/10.5 MB 2.3 MB/s eta 0:00:02\n",
      "     -------------------------- ------------- 7.0/10.5 MB 2.3 MB/s eta 0:00:02\n",
      "     --------------------------- ------------ 7.1/10.5 MB 2.3 MB/s eta 0:00:02\n",
      "     --------------------------- ------------ 7.3/10.5 MB 2.3 MB/s eta 0:00:02\n",
      "     ---------------------------- ----------- 7.4/10.5 MB 2.3 MB/s eta 0:00:02\n",
      "     ---------------------------- ----------- 7.5/10.5 MB 2.3 MB/s eta 0:00:02\n",
      "     ----------------------------- ---------- 7.7/10.5 MB 2.3 MB/s eta 0:00:02\n",
      "     ----------------------------- ---------- 7.7/10.5 MB 2.3 MB/s eta 0:00:02\n",
      "     ------------------------------ --------- 7.9/10.5 MB 2.3 MB/s eta 0:00:02\n",
      "     ------------------------------ --------- 8.0/10.5 MB 2.3 MB/s eta 0:00:02\n",
      "     ------------------------------ --------- 8.1/10.5 MB 2.3 MB/s eta 0:00:02\n",
      "     ------------------------------- -------- 8.2/10.5 MB 2.3 MB/s eta 0:00:02\n",
      "     ------------------------------- -------- 8.3/10.5 MB 2.3 MB/s eta 0:00:01\n",
      "     ------------------------------- -------- 8.3/10.5 MB 2.3 MB/s eta 0:00:01\n",
      "     -------------------------------- ------- 8.4/10.5 MB 2.3 MB/s eta 0:00:01\n",
      "     -------------------------------- ------- 8.4/10.5 MB 2.3 MB/s eta 0:00:01\n",
      "     -------------------------------- ------- 8.4/10.5 MB 2.3 MB/s eta 0:00:01\n",
      "     -------------------------------- ------- 8.4/10.5 MB 2.2 MB/s eta 0:00:01\n",
      "     -------------------------------- ------- 8.6/10.5 MB 2.2 MB/s eta 0:00:01\n",
      "     -------------------------------- ------- 8.7/10.5 MB 2.2 MB/s eta 0:00:01\n",
      "     --------------------------------- ------ 8.8/10.5 MB 2.2 MB/s eta 0:00:01\n",
      "     --------------------------------- ------ 8.9/10.5 MB 2.2 MB/s eta 0:00:01\n",
      "     ---------------------------------- ----- 8.9/10.5 MB 2.2 MB/s eta 0:00:01\n",
      "     ---------------------------------- ----- 9.0/10.5 MB 2.2 MB/s eta 0:00:01\n",
      "     ---------------------------------- ----- 9.0/10.5 MB 2.2 MB/s eta 0:00:01\n",
      "     ---------------------------------- ----- 9.1/10.5 MB 2.2 MB/s eta 0:00:01\n",
      "     ---------------------------------- ----- 9.1/10.5 MB 2.1 MB/s eta 0:00:01\n",
      "     ---------------------------------- ----- 9.2/10.5 MB 2.1 MB/s eta 0:00:01\n",
      "     ----------------------------------- ---- 9.2/10.5 MB 2.1 MB/s eta 0:00:01\n",
      "     ----------------------------------- ---- 9.2/10.5 MB 2.1 MB/s eta 0:00:01\n",
      "     ----------------------------------- ---- 9.3/10.5 MB 2.1 MB/s eta 0:00:01\n",
      "     ----------------------------------- ---- 9.4/10.5 MB 2.1 MB/s eta 0:00:01\n",
      "     ----------------------------------- ---- 9.4/10.5 MB 2.1 MB/s eta 0:00:01\n",
      "     ------------------------------------ --- 9.5/10.5 MB 2.1 MB/s eta 0:00:01\n",
      "     ------------------------------------ --- 9.6/10.5 MB 2.1 MB/s eta 0:00:01\n",
      "     ------------------------------------ --- 9.7/10.5 MB 2.1 MB/s eta 0:00:01\n",
      "     ------------------------------------ --- 9.7/10.5 MB 2.1 MB/s eta 0:00:01\n",
      "     ------------------------------------- -- 9.8/10.5 MB 2.1 MB/s eta 0:00:01\n",
      "     ------------------------------------- -- 9.9/10.5 MB 2.0 MB/s eta 0:00:01\n",
      "     ------------------------------------- -- 9.9/10.5 MB 2.0 MB/s eta 0:00:01\n",
      "     -------------------------------------- - 10.0/10.5 MB 2.0 MB/s eta 0:00:01\n",
      "     -------------------------------------- - 10.1/10.5 MB 2.0 MB/s eta 0:00:01\n",
      "     -------------------------------------- - 10.2/10.5 MB 2.0 MB/s eta 0:00:01\n",
      "     ---------------------------------------  10.3/10.5 MB 2.0 MB/s eta 0:00:01\n",
      "     ---------------------------------------  10.3/10.5 MB 2.0 MB/s eta 0:00:01\n",
      "     ---------------------------------------  10.5/10.5 MB 2.0 MB/s eta 0:00:01\n",
      "     ---------------------------------------  10.5/10.5 MB 2.0 MB/s eta 0:00:01\n",
      "     ---------------------------------------- 10.5/10.5 MB 2.0 MB/s eta 0:00:00\n",
      "Requirement already satisfied: colorama in c:\\users\\user\\appdata\\local\\programs\\python\\python310\\lib\\site-packages (from azure-ai-ml) (0.4.6)\n",
      "Collecting azure-storage-file-share\n",
      "  Downloading azure_storage_file_share-12.17.0-py3-none-any.whl (270 kB)\n",
      "     ---------------------------------------- 0.0/270.7 kB ? eta -:--:--\n",
      "     ------------- ------------------------- 92.2/270.7 kB 2.6 MB/s eta 0:00:01\n",
      "     --------------------------- ---------- 194.6/270.7 kB 2.4 MB/s eta 0:00:01\n",
      "     -------------------------------------  266.2/270.7 kB 2.3 MB/s eta 0:00:01\n",
      "     -------------------------------------- 270.7/270.7 kB 1.7 MB/s eta 0:00:00\n",
      "Collecting azure-storage-file-datalake>=12.2.0\n",
      "  Downloading azure_storage_file_datalake-12.16.0-py3-none-any.whl (255 kB)\n",
      "     ---------------------------------------- 0.0/255.6 kB ? eta -:--:--\n",
      "     ---------------- --------------------- 112.6/255.6 kB 3.3 MB/s eta 0:00:01\n",
      "     --------------------------------- ---- 225.3/255.6 kB 2.8 MB/s eta 0:00:01\n",
      "     -------------------------------------- 255.6/255.6 kB 2.6 MB/s eta 0:00:00\n",
      "Requirement already satisfied: jsonschema>=4.0.0 in c:\\users\\user\\appdata\\local\\programs\\python\\python310\\lib\\site-packages (from azure-ai-ml) (4.23.0)\n",
      "Collecting pydash>=6.0.0\n",
      "  Downloading pydash-8.0.1-py3-none-any.whl (101 kB)\n",
      "     ---------------------------------------- 0.0/101.5 kB ? eta -:--:--\n",
      "     -------------------------------------- 101.5/101.5 kB 2.9 MB/s eta 0:00:00\n",
      "Collecting opencensus-ext-logging\n",
      "  Downloading opencensus_ext_logging-0.1.1-py2.py3-none-any.whl (4.0 kB)\n",
      "Collecting strictyaml\n",
      "  Downloading strictyaml-1.7.3-py3-none-any.whl (123 kB)\n",
      "     ---------------------------------------- 0.0/123.9 kB ? eta -:--:--\n",
      "     -------------------------------------- 123.9/123.9 kB 2.4 MB/s eta 0:00:00\n",
      "Requirement already satisfied: azure-common>=1.1 in c:\\users\\user\\appdata\\local\\programs\\python\\python310\\lib\\site-packages (from azure-ai-ml) (1.1.28)\n",
      "Requirement already satisfied: azure-mgmt-core>=1.3.0 in c:\\users\\user\\appdata\\local\\programs\\python\\python310\\lib\\site-packages (from azure-ai-ml) (1.4.0)\n",
      "Requirement already satisfied: pyyaml>=5.1.0 in c:\\users\\user\\appdata\\local\\programs\\python\\python310\\lib\\site-packages (from azure-ai-ml) (6.0.1)\n",
      "Requirement already satisfied: typing-extensions in c:\\users\\user\\appdata\\local\\programs\\python\\python310\\lib\\site-packages (from azure-ai-ml) (4.12.2)\n",
      "Collecting marshmallow>=3.5\n",
      "  Downloading marshmallow-3.21.3-py3-none-any.whl (49 kB)\n",
      "     ---------------------------------------- 0.0/49.2 kB ? eta -:--:--\n",
      "     ---------------------------------------- 49.2/49.2 kB 2.4 MB/s eta 0:00:00\n",
      "Collecting opencensus-ext-azure\n",
      "  Downloading opencensus_ext_azure-1.1.13-py2.py3-none-any.whl (43 kB)\n",
      "     ---------------------------------------- 0.0/43.4 kB ? eta -:--:--\n",
      "     ---------------------------------------- 43.4/43.4 kB 2.1 MB/s eta 0:00:00\n",
      "Collecting azure-storage-blob>=12.10.0\n",
      "  Downloading azure_storage_blob-12.21.0-py3-none-any.whl (396 kB)\n",
      "     ---------------------------------------- 0.0/396.4 kB ? eta -:--:--\n",
      "     ------------- ------------------------ 143.4/396.4 kB 4.2 MB/s eta 0:00:01\n",
      "     ----------------------- -------------- 245.8/396.4 kB 3.0 MB/s eta 0:00:01\n",
      "     -------------------------------------  389.1/396.4 kB 3.0 MB/s eta 0:00:01\n",
      "     -------------------------------------- 396.4/396.4 kB 2.2 MB/s eta 0:00:00\n",
      "Requirement already satisfied: msrest>=0.6.18 in c:\\users\\user\\appdata\\local\\programs\\python\\python310\\lib\\site-packages (from azure-ai-ml) (0.7.1)\n",
      "Requirement already satisfied: azure-core>=1.23.0 in c:\\users\\user\\appdata\\local\\programs\\python\\python310\\lib\\site-packages (from azure-ai-ml) (1.30.2)\n",
      "Requirement already satisfied: pyjwt in c:\\users\\user\\appdata\\local\\programs\\python\\python310\\lib\\site-packages (from azure-ai-ml) (2.8.0)\n",
      "Requirement already satisfied: isodate in c:\\users\\user\\appdata\\local\\programs\\python\\python310\\lib\\site-packages (from azure-ai-ml) (0.6.1)\n",
      "Collecting tqdm\n",
      "  Downloading tqdm-4.66.4-py3-none-any.whl (78 kB)\n",
      "     ---------------------------------------- 0.0/78.3 kB ? eta -:--:--\n",
      "     ------------------------------------ --- 71.7/78.3 kB ? eta -:--:--\n",
      "     ---------------------------------------- 78.3/78.3 kB 1.4 MB/s eta 0:00:00\n",
      "Requirement already satisfied: six>=1.11.0 in c:\\users\\user\\appdata\\local\\programs\\python\\python310\\lib\\site-packages (from azure-core>=1.23.0->azure-ai-ml) (1.16.0)\n",
      "Requirement already satisfied: requests>=2.21.0 in c:\\users\\user\\appdata\\local\\programs\\python\\python310\\lib\\site-packages (from azure-core>=1.23.0->azure-ai-ml) (2.32.3)\n",
      "Requirement already satisfied: cryptography>=2.1.4 in c:\\users\\user\\appdata\\local\\programs\\python\\python310\\lib\\site-packages (from azure-storage-blob>=12.10.0->azure-ai-ml) (42.0.8)\n",
      "Requirement already satisfied: rpds-py>=0.7.1 in c:\\users\\user\\appdata\\local\\programs\\python\\python310\\lib\\site-packages (from jsonschema>=4.0.0->azure-ai-ml) (0.19.0)\n",
      "Requirement already satisfied: jsonschema-specifications>=2023.03.6 in c:\\users\\user\\appdata\\local\\programs\\python\\python310\\lib\\site-packages (from jsonschema>=4.0.0->azure-ai-ml) (2023.12.1)\n",
      "Requirement already satisfied: referencing>=0.28.4 in c:\\users\\user\\appdata\\local\\programs\\python\\python310\\lib\\site-packages (from jsonschema>=4.0.0->azure-ai-ml) (0.35.1)\n",
      "Requirement already satisfied: attrs>=22.2.0 in c:\\users\\user\\appdata\\local\\programs\\python\\python310\\lib\\site-packages (from jsonschema>=4.0.0->azure-ai-ml) (23.2.0)\n",
      "Requirement already satisfied: packaging>=17.0 in c:\\users\\user\\appdata\\local\\programs\\python\\python310\\lib\\site-packages (from marshmallow>=3.5->azure-ai-ml) (24.1)\n",
      "Requirement already satisfied: certifi>=2017.4.17 in c:\\users\\user\\appdata\\local\\programs\\python\\python310\\lib\\site-packages (from msrest>=0.6.18->azure-ai-ml) (2024.7.4)\n",
      "Requirement already satisfied: requests-oauthlib>=0.5.0 in c:\\users\\user\\appdata\\local\\programs\\python\\python310\\lib\\site-packages (from msrest>=0.6.18->azure-ai-ml) (2.0.0)\n",
      "Collecting opencensus<1.0.0,>=0.11.4\n",
      "  Downloading opencensus-0.11.4-py2.py3-none-any.whl (128 kB)\n",
      "     ---------------------------------------- 0.0/128.2 kB ? eta -:--:--\n",
      "     -------------------------------------- 128.2/128.2 kB 3.7 MB/s eta 0:00:00\n",
      "Requirement already satisfied: psutil>=5.6.3 in c:\\users\\user\\appdata\\local\\programs\\python\\python310\\lib\\site-packages (from opencensus-ext-azure->azure-ai-ml) (6.0.0)\n",
      "Collecting azure-identity<2.0.0,>=1.5.0\n",
      "  Using cached azure_identity-1.17.1-py3-none-any.whl (173 kB)\n",
      "Requirement already satisfied: python-dateutil>=2.6.0 in c:\\users\\user\\appdata\\local\\programs\\python\\python310\\lib\\site-packages (from strictyaml->azure-ai-ml) (2.9.0.post0)\n",
      "Requirement already satisfied: msal-extensions>=0.3.0 in c:\\users\\user\\appdata\\local\\programs\\python\\python310\\lib\\site-packages (from azure-identity<2.0.0,>=1.5.0->opencensus-ext-azure->azure-ai-ml) (1.2.0)\n",
      "Requirement already satisfied: msal>=1.24.0 in c:\\users\\user\\appdata\\local\\programs\\python\\python310\\lib\\site-packages (from azure-identity<2.0.0,>=1.5.0->opencensus-ext-azure->azure-ai-ml) (1.30.0)\n",
      "Requirement already satisfied: cffi>=1.12 in c:\\users\\user\\appdata\\local\\programs\\python\\python310\\lib\\site-packages (from cryptography>=2.1.4->azure-storage-blob>=12.10.0->azure-ai-ml) (1.16.0)\n",
      "Collecting google-api-core<3.0.0,>=1.0.0\n",
      "  Downloading google_api_core-2.19.1-py3-none-any.whl (139 kB)\n",
      "     ---------------------------------------- 0.0/139.4 kB ? eta -:--:--\n",
      "     ------------------------- ------------- 92.2/139.4 kB 2.6 MB/s eta 0:00:01\n",
      "     -------------------------------------- 139.4/139.4 kB 2.1 MB/s eta 0:00:00\n",
      "Collecting opencensus-context>=0.1.3\n",
      "  Downloading opencensus_context-0.1.3-py2.py3-none-any.whl (5.1 kB)\n",
      "Requirement already satisfied: idna<4,>=2.5 in c:\\users\\user\\appdata\\local\\programs\\python\\python310\\lib\\site-packages (from requests>=2.21.0->azure-core>=1.23.0->azure-ai-ml) (3.7)\n",
      "Requirement already satisfied: urllib3<3,>=1.21.1 in c:\\users\\user\\appdata\\local\\programs\\python\\python310\\lib\\site-packages (from requests>=2.21.0->azure-core>=1.23.0->azure-ai-ml) (2.2.2)\n",
      "Requirement already satisfied: charset-normalizer<4,>=2 in c:\\users\\user\\appdata\\local\\programs\\python\\python310\\lib\\site-packages (from requests>=2.21.0->azure-core>=1.23.0->azure-ai-ml) (3.3.2)\n",
      "Requirement already satisfied: oauthlib>=3.0.0 in c:\\users\\user\\appdata\\local\\programs\\python\\python310\\lib\\site-packages (from requests-oauthlib>=0.5.0->msrest>=0.6.18->azure-ai-ml) (3.2.2)\n",
      "Requirement already satisfied: pycparser in c:\\users\\user\\appdata\\local\\programs\\python\\python310\\lib\\site-packages (from cffi>=1.12->cryptography>=2.1.4->azure-storage-blob>=12.10.0->azure-ai-ml) (2.22)\n",
      "Collecting google-auth<3.0.dev0,>=2.14.1\n",
      "  Downloading google_auth-2.32.0-py2.py3-none-any.whl (195 kB)\n",
      "     ---------------------------------------- 0.0/195.5 kB ? eta -:--:--\n",
      "     ------------------ -------------------- 92.2/195.5 kB 2.6 MB/s eta 0:00:01\n",
      "     --------------------------------- ---- 174.1/195.5 kB 2.1 MB/s eta 0:00:01\n",
      "     -------------------------------------  194.6/195.5 kB 2.0 MB/s eta 0:00:01\n",
      "     -------------------------------------- 195.5/195.5 kB 1.3 MB/s eta 0:00:00\n",
      "Collecting googleapis-common-protos<2.0.dev0,>=1.56.2\n",
      "  Downloading googleapis_common_protos-1.63.2-py2.py3-none-any.whl (220 kB)\n",
      "     ---------------------------------------- 0.0/220.0 kB ? eta -:--:--\n",
      "     ------ ------------------------------ 41.0/220.0 kB 991.0 kB/s eta 0:00:01\n",
      "     ------------------- ------------------ 112.6/220.0 kB 1.3 MB/s eta 0:00:01\n",
      "     --------------------------------- ---- 194.6/220.0 kB 1.5 MB/s eta 0:00:01\n",
      "     -------------------------------------  215.0/220.0 kB 1.5 MB/s eta 0:00:01\n",
      "     -------------------------------------- 220.0/220.0 kB 1.1 MB/s eta 0:00:00\n",
      "Collecting proto-plus<2.0.0dev,>=1.22.3\n",
      "  Downloading proto_plus-1.24.0-py3-none-any.whl (50 kB)\n",
      "     ---------------------------------------- 0.0/50.1 kB ? eta -:--:--\n",
      "     ---------------------------------------- 50.1/50.1 kB 2.5 MB/s eta 0:00:00\n",
      "Collecting protobuf!=3.20.0,!=3.20.1,!=4.21.0,!=4.21.1,!=4.21.2,!=4.21.3,!=4.21.4,!=4.21.5,<6.0.0.dev0,>=3.19.5\n",
      "  Downloading protobuf-5.27.2-cp310-abi3-win_amd64.whl (426 kB)\n",
      "     ---------------------------------------- 0.0/426.9 kB ? eta -:--:--\n",
      "     ------------- ------------------------ 153.6/426.9 kB 3.1 MB/s eta 0:00:01\n",
      "     ------------------ ------------------- 204.8/426.9 kB 2.5 MB/s eta 0:00:01\n",
      "     -------------------- ----------------- 225.3/426.9 kB 2.0 MB/s eta 0:00:01\n",
      "     -------------------------------- ----- 368.6/426.9 kB 1.9 MB/s eta 0:00:01\n",
      "     -------------------------------------- 426.9/426.9 kB 1.9 MB/s eta 0:00:00\n",
      "Requirement already satisfied: portalocker<3,>=1.4 in c:\\users\\user\\appdata\\local\\programs\\python\\python310\\lib\\site-packages (from msal-extensions>=0.3.0->azure-identity<2.0.0,>=1.5.0->opencensus-ext-azure->azure-ai-ml) (2.10.1)\n",
      "Collecting pyasn1-modules>=0.2.1\n",
      "  Downloading pyasn1_modules-0.4.0-py3-none-any.whl (181 kB)\n",
      "     ---------------------------------------- 0.0/181.2 kB ? eta -:--:--\n",
      "     ----------------- --------------------- 81.9/181.2 kB 2.3 MB/s eta 0:00:01\n",
      "     -------------------------------------- 181.2/181.2 kB 2.2 MB/s eta 0:00:00\n",
      "Collecting cachetools<6.0,>=2.0.0\n",
      "  Downloading cachetools-5.4.0-py3-none-any.whl (9.5 kB)\n",
      "Collecting rsa<5,>=3.1.4\n",
      "  Downloading rsa-4.9-py3-none-any.whl (34 kB)\n",
      "Requirement already satisfied: pywin32>=226 in c:\\users\\user\\appdata\\local\\programs\\python\\python310\\lib\\site-packages (from portalocker<3,>=1.4->msal-extensions>=0.3.0->azure-identity<2.0.0,>=1.5.0->opencensus-ext-azure->azure-ai-ml) (306)\n",
      "Requirement already satisfied: pyasn1<0.7.0,>=0.4.6 in c:\\users\\user\\appdata\\local\\programs\\python\\python310\\lib\\site-packages (from pyasn1-modules>=0.2.1->google-auth<3.0.dev0,>=2.14.1->google-api-core<3.0.0,>=1.0.0->opencensus<1.0.0,>=0.11.4->opencensus-ext-azure->azure-ai-ml) (0.6.0)\n",
      "Installing collected packages: opencensus-context, tqdm, rsa, pydash, pyasn1-modules, protobuf, marshmallow, cachetools, strictyaml, proto-plus, googleapis-common-protos, google-auth, google-api-core, azure-storage-file-share, azure-storage-blob, opencensus, azure-storage-file-datalake, opencensus-ext-logging, azure-identity, opencensus-ext-azure, azure-ai-ml\n",
      "Successfully installed azure-ai-ml-1.18.0 azure-identity-1.17.1 azure-storage-blob-12.21.0 azure-storage-file-datalake-12.16.0 azure-storage-file-share-12.17.0 cachetools-5.4.0 google-api-core-2.19.1 google-auth-2.32.0 googleapis-common-protos-1.63.2 marshmallow-3.21.3 opencensus-0.11.4 opencensus-context-0.1.3 opencensus-ext-azure-1.1.13 opencensus-ext-logging-0.1.1 proto-plus-1.24.0 protobuf-5.27.2 pyasn1-modules-0.4.0 pydash-8.0.1 rsa-4.9 strictyaml-1.7.3 tqdm-4.66.4\n"
     ]
    },
    {
     "name": "stderr",
     "output_type": "stream",
     "text": [
      "\n",
      "[notice] A new release of pip is available: 23.0.1 -> 24.1.2\n",
      "[notice] To update, run: C:\\Users\\USER\\AppData\\Local\\Programs\\Python\\Python310\\python.exe -m pip install --upgrade pip\n"
     ]
    },
    {
     "name": "stdout",
     "output_type": "stream",
     "text": [
      "Requirement already satisfied: azure-identity in c:\\users\\user\\appdata\\local\\programs\\python\\python310\\lib\\site-packages (1.17.1)\n",
      "Requirement already satisfied: azure-core>=1.23.0 in c:\\users\\user\\appdata\\local\\programs\\python\\python310\\lib\\site-packages (from azure-identity) (1.30.2)\n",
      "Requirement already satisfied: typing-extensions>=4.0.0 in c:\\users\\user\\appdata\\local\\programs\\python\\python310\\lib\\site-packages (from azure-identity) (4.12.2)\n",
      "Requirement already satisfied: msal>=1.24.0 in c:\\users\\user\\appdata\\local\\programs\\python\\python310\\lib\\site-packages (from azure-identity) (1.30.0)\n",
      "Requirement already satisfied: msal-extensions>=0.3.0 in c:\\users\\user\\appdata\\local\\programs\\python\\python310\\lib\\site-packages (from azure-identity) (1.2.0)\n",
      "Requirement already satisfied: cryptography>=2.5 in c:\\users\\user\\appdata\\local\\programs\\python\\python310\\lib\\site-packages (from azure-identity) (42.0.8)\n",
      "Requirement already satisfied: six>=1.11.0 in c:\\users\\user\\appdata\\local\\programs\\python\\python310\\lib\\site-packages (from azure-core>=1.23.0->azure-identity) (1.16.0)\n",
      "Requirement already satisfied: requests>=2.21.0 in c:\\users\\user\\appdata\\local\\programs\\python\\python310\\lib\\site-packages (from azure-core>=1.23.0->azure-identity) (2.32.3)\n",
      "Requirement already satisfied: cffi>=1.12 in c:\\users\\user\\appdata\\local\\programs\\python\\python310\\lib\\site-packages (from cryptography>=2.5->azure-identity) (1.16.0)\n",
      "Requirement already satisfied: PyJWT[crypto]<3,>=1.0.0 in c:\\users\\user\\appdata\\local\\programs\\python\\python310\\lib\\site-packages (from msal>=1.24.0->azure-identity) (2.8.0)\n",
      "Requirement already satisfied: portalocker<3,>=1.4 in c:\\users\\user\\appdata\\local\\programs\\python\\python310\\lib\\site-packages (from msal-extensions>=0.3.0->azure-identity) (2.10.1)\n",
      "Requirement already satisfied: pycparser in c:\\users\\user\\appdata\\local\\programs\\python\\python310\\lib\\site-packages (from cffi>=1.12->cryptography>=2.5->azure-identity) (2.22)\n",
      "Requirement already satisfied: pywin32>=226 in c:\\users\\user\\appdata\\local\\programs\\python\\python310\\lib\\site-packages (from portalocker<3,>=1.4->msal-extensions>=0.3.0->azure-identity) (306)\n",
      "Requirement already satisfied: charset-normalizer<4,>=2 in c:\\users\\user\\appdata\\local\\programs\\python\\python310\\lib\\site-packages (from requests>=2.21.0->azure-core>=1.23.0->azure-identity) (3.3.2)\n",
      "Requirement already satisfied: idna<4,>=2.5 in c:\\users\\user\\appdata\\local\\programs\\python\\python310\\lib\\site-packages (from requests>=2.21.0->azure-core>=1.23.0->azure-identity) (3.7)\n",
      "Requirement already satisfied: certifi>=2017.4.17 in c:\\users\\user\\appdata\\local\\programs\\python\\python310\\lib\\site-packages (from requests>=2.21.0->azure-core>=1.23.0->azure-identity) (2024.7.4)\n",
      "Requirement already satisfied: urllib3<3,>=1.21.1 in c:\\users\\user\\appdata\\local\\programs\\python\\python310\\lib\\site-packages (from requests>=2.21.0->azure-core>=1.23.0->azure-identity) (2.2.2)\n"
     ]
    },
    {
     "name": "stderr",
     "output_type": "stream",
     "text": [
      "\n",
      "[notice] A new release of pip is available: 23.0.1 -> 24.1.2\n",
      "[notice] To update, run: C:\\Users\\USER\\AppData\\Local\\Programs\\Python\\Python310\\python.exe -m pip install --upgrade pip\n"
     ]
    }
   ],
   "source": [
    "!pip install azure-ai-ml\n",
    "!pip install azure-identity"
   ]
  },
  {
   "cell_type": "markdown",
   "id": "a8fa8bbc-138d-470d-9840-45afedefea51",
   "metadata": {},
   "source": [
    "## Authenticate the client"
   ]
  },
  {
   "cell_type": "code",
   "execution_count": 2,
   "id": "1f56a017-e92b-4938-b008-ac6a59931958",
   "metadata": {},
   "outputs": [],
   "source": [
    "subscription_id = \"a9a8a68b-6192-48c1-ba65-1994b763579d\"\n",
    "resource_group = \"mlops\"\n",
    "workspace = \"mlwol3bxs001\"\n",
    "\n",
    "from azure.ai.ml import MLClient\n",
    "from azure.identity import DefaultAzureCredential\n",
    "\n",
    "ml_client = MLClient(\n",
    "    DefaultAzureCredential(), subscription_id, resource_group, workspace\n",
    ")"
   ]
  },
  {
   "cell_type": "code",
   "execution_count": 3,
   "id": "bd190e1c-b76a-44a8-b5d8-8090e3add80f",
   "metadata": {},
   "outputs": [],
   "source": [
    "from azure.core.exceptions import HttpResponseError\n",
    "\n",
    "try:\n",
    "    ml_client.compute.get(\"cpu-cluster\")\n",
    "except HttpResponseError as error:\n",
    "    print(\"Request failed: {}\".format(error.message))"
   ]
  },
  {
   "cell_type": "code",
   "execution_count": 4,
   "id": "ec444260-f0d3-4f82-86d2-5b2cdf6415ad",
   "metadata": {},
   "outputs": [],
   "source": [
    "import os\n",
    "\n",
    "train_src_dir = \"./src\"\n",
    "os.makedirs(train_src_dir, exist_ok=True)"
   ]
  },
  {
   "cell_type": "code",
   "execution_count": 5,
   "id": "c8760a22-df79-4581-999e-6aaed0c1af9a",
   "metadata": {},
   "outputs": [
    {
     "name": "stdout",
     "output_type": "stream",
     "text": [
      "Overwriting ./src/main.py\n"
     ]
    }
   ],
   "source": [
    "%%writefile {train_src_dir}/main.py\n",
    "import os\n",
    "import argparse\n",
    "import pandas as pd\n",
    "import mlflow\n",
    "import mlflow.sklearn\n",
    "from sklearn.ensemble import GradientBoostingClassifier\n",
    "from sklearn.metrics import classification_report\n",
    "from sklearn.model_selection import train_test_split\n",
    "\n",
    "def main():\n",
    "    \"\"\"Main function of the script.\"\"\"\n",
    "\n",
    "    # input and output arguments\n",
    "    parser = argparse.ArgumentParser()\n",
    "    parser.add_argument(\"--data\", type=str, help=\"path to input data\")\n",
    "    parser.add_argument(\"--test_train_ratio\", type=float, required=False, default=0.25)\n",
    "    parser.add_argument(\"--n_estimators\", required=False, default=100, type=int)\n",
    "    parser.add_argument(\"--learning_rate\", required=False, default=0.1, type=float)\n",
    "    parser.add_argument(\"--registered_model_name\", type=str, help=\"model name\")\n",
    "    args = parser.parse_args()\n",
    "   \n",
    "    # Start Logging\n",
    "    mlflow.start_run()\n",
    "\n",
    "    # enable autologging\n",
    "    mlflow.sklearn.autolog()\n",
    "\n",
    "    ###################\n",
    "    #<prepare the data>\n",
    "    ###################\n",
    "    print(\" \".join(f\"{k}={v}\" for k, v in vars(args).items()))\n",
    "\n",
    "    print(\"input data:\", args.data)\n",
    "    \n",
    "    credit_df = pd.read_csv(args.data, header=1, index_col=0)\n",
    "\n",
    "    mlflow.log_metric(\"num_samples\", credit_df.shape[0])\n",
    "    mlflow.log_metric(\"num_features\", credit_df.shape[1] - 1)\n",
    "\n",
    "    train_df, test_df = train_test_split(\n",
    "        credit_df,\n",
    "        test_size=args.test_train_ratio,\n",
    "    )\n",
    "    ####################\n",
    "    #</prepare the data>\n",
    "    ####################\n",
    "\n",
    "    ##################\n",
    "    #<train the model>\n",
    "    ##################\n",
    "    # Extracting the label column\n",
    "    y_train = train_df.pop(\"default payment next month\")\n",
    "\n",
    "    # convert the dataframe values to array\n",
    "    X_train = train_df.values\n",
    "\n",
    "    # Extracting the label column\n",
    "    y_test = test_df.pop(\"default payment next month\")\n",
    "\n",
    "    # convert the dataframe values to array\n",
    "    X_test = test_df.values\n",
    "\n",
    "    print(f\"Training with data of shape {X_train.shape}\")\n",
    "\n",
    "    clf = GradientBoostingClassifier(\n",
    "        n_estimators=args.n_estimators, learning_rate=args.learning_rate\n",
    "    )\n",
    "    clf.fit(X_train, y_train)\n",
    "\n",
    "    y_pred = clf.predict(X_test)\n",
    "\n",
    "    print(classification_report(y_test, y_pred))\n",
    "    ###################\n",
    "    #</train the model>\n",
    "    ###################\n",
    "\n",
    "    ##########################\n",
    "    #<save and register model>\n",
    "    ##########################\n",
    "    # Registering the model to the workspace\n",
    "    print(\"Registering the model via MLFlow\")\n",
    "    mlflow.sklearn.log_model(\n",
    "        sk_model=clf,\n",
    "        registered_model_name=args.registered_model_name,\n",
    "        artifact_path=args.registered_model_name,\n",
    "    )\n",
    "\n",
    "    # Saving the model to a file\n",
    "    mlflow.sklearn.save_model(\n",
    "        sk_model=clf,\n",
    "        path=os.path.join(args.registered_model_name, \"trained_model\"),\n",
    "    )\n",
    "    ###########################\n",
    "    #</save and register model>\n",
    "    ###########################\n",
    "    \n",
    "    # Stop Logging\n",
    "    mlflow.end_run()\n",
    "\n",
    "if __name__ == \"__main__\":\n",
    "    main()"
   ]
  },
  {
   "cell_type": "code",
   "execution_count": 6,
   "id": "617614dc-9716-4a60-93e5-6d0f4a082a0b",
   "metadata": {},
   "outputs": [],
   "source": [
    "from azure.ai.ml import command\n",
    "from azure.ai.ml import Input\n",
    "\n",
    "registered_model_name = \"credit_defaults_model\"\n",
    "\n",
    "job = command(\n",
    "    inputs=dict(\n",
    "        data=Input(\n",
    "            type=\"uri_file\",\n",
    "            path=\"https://azuremlexamples.blob.core.windows.net/datasets/credit_card/default_of_credit_card_clients.csv\",\n",
    "        ),\n",
    "        test_train_ratio=0.2,\n",
    "        learning_rate=0.25,\n",
    "        registered_model_name=registered_model_name,\n",
    "    ),\n",
    "    code=\"./src/\",  # location of source code\n",
    "    command=\"python main.py --data ${{inputs.data}} --test_train_ratio ${{inputs.test_train_ratio}} --learning_rate ${{inputs.learning_rate}} --registered_model_name ${{inputs.registered_model_name}}\",\n",
    "    environment=\"AzureML-sklearn-1.0-ubuntu20.04-py38-cpu@latest\",\n",
    "    display_name=\"credit_default_prediction\",\n",
    ")"
   ]
  },
  {
   "cell_type": "code",
   "execution_count": 7,
   "id": "b1b35244-8422-4573-8363-f8b2411fa155",
   "metadata": {},
   "outputs": [
    {
     "name": "stderr",
     "output_type": "stream",
     "text": [
      "Class AutoDeleteSettingSchema: This is an experimental class, and may change at any time. Please see https://aka.ms/azuremlexperimental for more information.\n",
      "Class AutoDeleteConditionSchema: This is an experimental class, and may change at any time. Please see https://aka.ms/azuremlexperimental for more information.\n",
      "Class BaseAutoDeleteSettingSchema: This is an experimental class, and may change at any time. Please see https://aka.ms/azuremlexperimental for more information.\n",
      "Class IntellectualPropertySchema: This is an experimental class, and may change at any time. Please see https://aka.ms/azuremlexperimental for more information.\n",
      "Class ProtectionLevelSchema: This is an experimental class, and may change at any time. Please see https://aka.ms/azuremlexperimental for more information.\n",
      "Class BaseIntellectualPropertySchema: This is an experimental class, and may change at any time. Please see https://aka.ms/azuremlexperimental for more information.\n"
     ]
    },
    {
     "data": {
      "text/html": [
       "<table style=\"width:100%\"><tr><th>Experiment</th><th>Name</th><th>Type</th><th>Status</th><th>Details Page</th></tr><tr><td>MLOps-Project</td><td>olden_avocado_nq0gclnmc6</td><td>command</td><td>Starting</td><td><a href=\"https://ml.azure.com/runs/olden_avocado_nq0gclnmc6?wsid=/subscriptions/a9a8a68b-6192-48c1-ba65-1994b763579d/resourcegroups/mlops/workspaces/mlwol3bxs001&amp;tid=a73d76e2-34ef-4c7b-8d29-8965530e3803\" target=\"_blank\" rel=\"noopener\">Link to Azure Machine Learning studio</a></td></tr></table>"
      ],
      "text/plain": [
       "Command({'parameters': {}, 'init': False, 'name': 'olden_avocado_nq0gclnmc6', 'type': 'command', 'status': 'Starting', 'log_files': None, 'description': None, 'tags': {}, 'properties': {'_azureml.ComputeTargetType': 'amlctrain', '_azureml.ClusterName': None, 'ContentSnapshotId': '12191fd6-768e-4e03-9544-cc88f1ddd555'}, 'print_as_yaml': False, 'id': '/subscriptions/a9a8a68b-6192-48c1-ba65-1994b763579d/resourceGroups/mlops/providers/Microsoft.MachineLearningServices/workspaces/mlwol3bxs001/jobs/olden_avocado_nq0gclnmc6', 'Resource__source_path': '', 'base_path': 'C:\\\\Users\\\\USER\\\\Downloads\\\\MLOps-Project', 'creation_context': <azure.ai.ml.entities._system_data.SystemData object at 0x000001F63AA85C60>, 'serialize': <msrest.serialization.Serializer object at 0x000001F63AA85BA0>, 'allowed_keys': {}, 'key_restriction': False, 'logger': <TraceLogger attr_dict (WARNING)>, 'display_name': 'credit_default_prediction', 'experiment_name': 'MLOps-Project', 'compute': None, 'services': {'Tracking': {'endpoint': 'azureml://eastus.api.azureml.ms/mlflow/v1.0/subscriptions/a9a8a68b-6192-48c1-ba65-1994b763579d/resourceGroups/mlops/providers/Microsoft.MachineLearningServices/workspaces/mlwol3bxs001?', 'type': 'Tracking'}, 'Studio': {'endpoint': 'https://ml.azure.com/runs/olden_avocado_nq0gclnmc6?wsid=/subscriptions/a9a8a68b-6192-48c1-ba65-1994b763579d/resourcegroups/mlops/workspaces/mlwol3bxs001&tid=a73d76e2-34ef-4c7b-8d29-8965530e3803', 'type': 'Studio'}}, 'comment': None, 'job_inputs': {'data': {'type': 'uri_file', 'path': 'https://azuremlexamples.blob.core.windows.net/datasets/credit_card/default_of_credit_card_clients.csv', 'mode': 'ro_mount'}, 'test_train_ratio': '0.2', 'learning_rate': '0.25', 'registered_model_name': 'credit_defaults_model'}, 'job_outputs': {'default': {'type': 'uri_folder', 'path': 'azureml://datastores/workspaceartifactstore/ExperimentRun/dcid.olden_avocado_nq0gclnmc6', 'mode': 'rw_mount'}}, 'inputs': {'data': <azure.ai.ml.entities._job.pipeline._io.base.NodeInput object at 0x000001F63AA85A80>, 'test_train_ratio': <azure.ai.ml.entities._job.pipeline._io.base.NodeInput object at 0x000001F631BF0AF0>, 'learning_rate': <azure.ai.ml.entities._job.pipeline._io.base.NodeInput object at 0x000001F63A575900>, 'registered_model_name': <azure.ai.ml.entities._job.pipeline._io.base.NodeInput object at 0x000001F63A51E740>}, 'outputs': {'default': <azure.ai.ml.entities._job.pipeline._io.base.NodeOutput object at 0x000001F632D4F010>}, 'component': CommandComponent({'latest_version': None, 'intellectual_property': None, 'auto_increment_version': True, 'source': 'REMOTE.WORKSPACE.JOB', 'is_anonymous': False, 'auto_delete_setting': None, 'name': 'olden_avocado_nq0gclnmc6', 'description': None, 'tags': {}, 'properties': {}, 'print_as_yaml': False, 'id': None, 'Resource__source_path': None, 'base_path': 'C:\\\\Users\\\\USER\\\\Downloads\\\\MLOps-Project', 'creation_context': <azure.ai.ml.entities._system_data.SystemData object at 0x000001F63AA85C60>, 'serialize': <msrest.serialization.Serializer object at 0x000001F63AA84F70>, 'command': 'python main.py --data ${{inputs.data}} --test_train_ratio ${{inputs.test_train_ratio}} --learning_rate ${{inputs.learning_rate}} --registered_model_name ${{inputs.registered_model_name}}', 'code': '/subscriptions/a9a8a68b-6192-48c1-ba65-1994b763579d/resourceGroups/mlops/providers/Microsoft.MachineLearningServices/workspaces/mlwol3bxs001/codes/07e22d4d-5c25-492c-b499-3c17f9910240/versions/1', 'environment_variables': {}, 'environment': 'azureml:AzureML-sklearn-1.0-ubuntu20.04-py38-cpu@latest', 'distribution': None, 'resources': None, 'queue_settings': None, 'version': None, 'schema': None, 'type': 'command', 'display_name': 'credit_default_prediction', 'is_deterministic': True, 'inputs': {'data': {'type': 'uri_file', 'path': 'https://azuremlexamples.blob.core.windows.net/datasets/credit_card/default_of_credit_card_clients.csv', 'mode': 'ro_mount'}, 'test_train_ratio': {'type': 'string', 'default': '0.2'}, 'learning_rate': {'type': 'string', 'default': '0.25'}, 'registered_model_name': {'type': 'string', 'default': 'credit_defaults_model'}}, 'outputs': {'default': {'type': 'uri_folder', 'path': 'azureml://datastores/workspaceartifactstore/ExperimentRun/dcid.olden_avocado_nq0gclnmc6', 'mode': 'rw_mount'}}, 'yaml_str': None, 'other_parameter': {'status': 'Starting', 'parameters': {}}, 'additional_includes': []}), 'referenced_control_flow_node_instance_id': None, 'kwargs': {'services': {'Tracking': {'endpoint': 'azureml://eastus.api.azureml.ms/mlflow/v1.0/subscriptions/a9a8a68b-6192-48c1-ba65-1994b763579d/resourceGroups/mlops/providers/Microsoft.MachineLearningServices/workspaces/mlwol3bxs001?', 'type': 'Tracking'}, 'Studio': {'endpoint': 'https://ml.azure.com/runs/olden_avocado_nq0gclnmc6?wsid=/subscriptions/a9a8a68b-6192-48c1-ba65-1994b763579d/resourcegroups/mlops/workspaces/mlwol3bxs001&tid=a73d76e2-34ef-4c7b-8d29-8965530e3803', 'type': 'Studio'}}, 'status': 'Starting', 'creation_context': <azure.ai.ml.entities._system_data.SystemData object at 0x000001F63AA85C60>}, 'instance_id': '8ebe430b-411e-47c5-97ba-a546b0c673c3', 'source': 'BUILDER', 'validate_required_input_not_provided': True, 'limits': None, 'identity': None, 'distribution': None, 'environment_variables': {}, 'environment': 'azureml:AzureML-sklearn-1.0-ubuntu20.04-py38-cpu@latest', 'resources': {'instance_count': 1, 'shm_size': '2g'}, 'queue_settings': {'job_tier': 'standard'}, 'swept': False})"
      ]
     },
     "execution_count": 7,
     "metadata": {},
     "output_type": "execute_result"
    }
   ],
   "source": [
    "ml_client.create_or_update(job)"
   ]
  },
  {
   "cell_type": "code",
   "execution_count": 8,
   "id": "73f221b8-480f-43cc-8d93-dadf1af6c0bb",
   "metadata": {},
   "outputs": [],
   "source": [
    "import uuid\n",
    "\n",
    "# Creating a unique name for the endpoint\n",
    "online_endpoint_name = \"credit-endpoint-\" + str(uuid.uuid4())[:8]"
   ]
  },
  {
   "cell_type": "code",
   "execution_count": 9,
   "id": "905ffbc1-fab1-4ae2-8f60-9242d3c0e3a0",
   "metadata": {},
   "outputs": [
    {
     "name": "stdout",
     "output_type": "stream",
     "text": [
      "Endpoint credit-endpoint-49b9ccce provisioning state: Succeeded\n"
     ]
    }
   ],
   "source": [
    "# Expect the endpoint creation to take a few minutes\n",
    "from azure.ai.ml.entities import (\n",
    "    ManagedOnlineEndpoint,\n",
    "    ManagedOnlineDeployment,\n",
    "    Model,\n",
    "    Environment,\n",
    ")\n",
    "\n",
    "# create an online endpoint\n",
    "endpoint = ManagedOnlineEndpoint(\n",
    "    name=online_endpoint_name,\n",
    "    description=\"this is an online endpoint\",\n",
    "    auth_mode=\"key\",\n",
    "    tags={\n",
    "        \"training_dataset\": \"credit_defaults\",\n",
    "        \"model_type\": \"sklearn.GradientBoostingClassifier\",\n",
    "    },\n",
    ")\n",
    "\n",
    "endpoint = ml_client.online_endpoints.begin_create_or_update(endpoint).result()\n",
    "\n",
    "print(f\"Endpoint {endpoint.name} provisioning state: {endpoint.provisioning_state}\")"
   ]
  },
  {
   "cell_type": "code",
   "execution_count": 10,
   "id": "adc1485d-c454-482c-9208-c337474e9351",
   "metadata": {},
   "outputs": [
    {
     "name": "stdout",
     "output_type": "stream",
     "text": [
      "Endpoint \"credit-endpoint-49b9ccce\" with provisioning state \"Succeeded\" is retrieved\n"
     ]
    }
   ],
   "source": [
    "endpoint = ml_client.online_endpoints.get(name=online_endpoint_name)\n",
    "\n",
    "print(\n",
    "    f'Endpoint \"{endpoint.name}\" with provisioning state \"{endpoint.provisioning_state}\" is retrieved'\n",
    ")"
   ]
  },
  {
   "cell_type": "code",
   "execution_count": 11,
   "id": "c0f3a4f7-99bb-4648-817c-37461317dc75",
   "metadata": {},
   "outputs": [
    {
     "name": "stdout",
     "output_type": "stream",
     "text": [
      "Latest model is version \"1\" \n"
     ]
    }
   ],
   "source": [
    "# Let's pick the latest version of the model\n",
    "latest_model_version = max(\n",
    "    [int(m.version) for m in ml_client.models.list(name=registered_model_name)]\n",
    ")\n",
    "print(f'Latest model is version \"{latest_model_version}\" ')"
   ]
  },
  {
   "cell_type": "code",
   "execution_count": 16,
   "id": "d3a0b3d8-b3b3-4d77-ab26-755fa0279563",
   "metadata": {},
   "outputs": [
    {
     "name": "stderr",
     "output_type": "stream",
     "text": [
      "Instance type Standard_DS2_v2 may be too small for compute resources. Minimum recommended compute SKU is Standard_DS3_v2 for general purpose endpoints. Learn more about SKUs here: https://learn.microsoft.com/en-us/azure/machine-learning/referencemanaged-online-endpoints-vm-sku-list\n",
      "Check: endpoint credit-endpoint-49b9ccce exists\n"
     ]
    },
    {
     "name": "stdout",
     "output_type": "stream",
     "text": [
      "................................................................................................."
     ]
    }
   ],
   "source": [
    "# picking the model to deploy. Here we use the latest version of our registered model\n",
    "model = ml_client.models.get(name=registered_model_name, version=latest_model_version)\n",
    "\n",
    "# Expect this deployment to take approximately 6 to 8 minutes.\n",
    "# create an online deployment.\n",
    "# if you run into an out of quota error, change the instance_type to a comparable VM that is available.\n",
    "# Learn more on https://azure.microsoft.com/pricing/details/machine-learning/.\n",
    "blue_deployment = ManagedOnlineDeployment(\n",
    "    name=\"blue\",\n",
    "    endpoint_name=online_endpoint_name,\n",
    "    model=model,\n",
    "    instance_type=\"Standard_DS2_v2\",\n",
    "    instance_count=1,\n",
    ")\n",
    "\n",
    "blue_deployment = ml_client.begin_create_or_update(blue_deployment).result()"
   ]
  },
  {
   "cell_type": "code",
   "execution_count": 13,
   "id": "1400b0dc-b276-4edb-b4a4-d9bd3dc106a5",
   "metadata": {},
   "outputs": [],
   "source": [
    "deploy_dir = \"./deploy\"\n",
    "os.makedirs(deploy_dir, exist_ok=True)"
   ]
  },
  {
   "cell_type": "code",
   "execution_count": 17,
   "id": "5b6147a5-4161-4ee0-a7ea-c0e223f36eb3",
   "metadata": {},
   "outputs": [
    {
     "name": "stdout",
     "output_type": "stream",
     "text": [
      "Overwriting ./deploy/sample-request.json\n"
     ]
    }
   ],
   "source": [
    "%%writefile {deploy_dir}/sample-request.json\n",
    "{\n",
    "  \"input_data\": {\n",
    "    \"columns\": [0,1,2,3,4,5,6,7,8,9,10,11,12,13,14,15,16,17,18,19,20,21,22],\n",
    "    \"index\": [0, 1],\n",
    "    \"data\": [\n",
    "            [20000,2,2,1,24,2,2,-1,-1,-2,-2,3913,3102,689,0,0,0,0,689,0,0,0,0],\n",
    "            [10, 9, 8, 7, 6, 5, 4, 3, 2, 1, 10, 9, 8, 7, 6, 5, 4, 3, 2, 1, 10, 9, 8]\n",
    "        ]\n",
    "  }\n",
    "}"
   ]
  },
  {
   "cell_type": "code",
   "execution_count": 18,
   "id": "0b545fdc-6705-4ad8-b82c-9548fed18d8b",
   "metadata": {},
   "outputs": [
    {
     "data": {
      "text/plain": [
       "'[1, 0]'"
      ]
     },
     "execution_count": 18,
     "metadata": {},
     "output_type": "execute_result"
    }
   ],
   "source": [
    "# test the blue deployment with some sample data\n",
    "ml_client.online_endpoints.invoke(\n",
    "    endpoint_name=online_endpoint_name,\n",
    "    request_file=\"./deploy/sample-request.json\",\n",
    "    deployment_name=\"blue\",\n",
    ")"
   ]
  },
  {
   "cell_type": "code",
   "execution_count": null,
   "id": "050c723f-fbdf-4422-9e8c-dca88cf921d0",
   "metadata": {},
   "outputs": [],
   "source": []
  }
 ],
 "metadata": {
  "kernelspec": {
   "display_name": "Python 3 (ipykernel)",
   "language": "python",
   "name": "python3"
  },
  "language_info": {
   "codemirror_mode": {
    "name": "ipython",
    "version": 3
   },
   "file_extension": ".py",
   "mimetype": "text/x-python",
   "name": "python",
   "nbconvert_exporter": "python",
   "pygments_lexer": "ipython3",
   "version": "3.10.11"
  }
 },
 "nbformat": 4,
 "nbformat_minor": 5
}
