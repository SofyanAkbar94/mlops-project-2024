{
 "cells": [
  {
   "cell_type": "markdown",
   "id": "af7e24d8-690c-4392-b9e4-04df412be15b",
   "metadata": {},
   "source": [
    "## Authenticate the client"
   ]
  },
  {
   "cell_type": "code",
   "execution_count": 1,
   "id": "cf432efb-0757-48db-a2fd-d14a9a3d270e",
   "metadata": {},
   "outputs": [],
   "source": [
    "subscription_id = \"a9a8a68b-6192-48c1-ba65-1994b763579d\"\n",
    "resource_group = \"mlops\"\n",
    "workspace = \"mlwol3bxs001\"\n",
    "\n",
    "from azure.ai.ml import MLClient\n",
    "from azure.identity import DefaultAzureCredential\n",
    "\n",
    "ml_client = MLClient(\n",
    "    DefaultAzureCredential(), subscription_id, resource_group, workspace\n",
    ")"
   ]
  },
  {
   "cell_type": "code",
   "execution_count": 2,
   "id": "05e08d08-f8c6-468f-94a8-06407ee4a2a4",
   "metadata": {},
   "outputs": [],
   "source": [
    "from azure.core.exceptions import HttpResponseError\n",
    "\n",
    "try:\n",
    "    ml_client.compute.get(\"cpu-cluster\")\n",
    "except HttpResponseError as error:\n",
    "    print(\"Request failed: {}\".format(error.message))"
   ]
  },
  {
   "cell_type": "code",
   "execution_count": 27,
   "id": "b3d77bc5-8b56-4688-b598-8de9b4d2241e",
   "metadata": {},
   "outputs": [
    {
     "name": "stdout",
     "output_type": "stream",
     "text": [
      "Requirement already satisfied: azure-ai-ml in c:\\users\\user\\appdata\\local\\programs\\python\\python310\\lib\\site-packages (1.18.0)\n",
      "Requirement already satisfied: isodate in c:\\users\\user\\appdata\\local\\programs\\python\\python310\\lib\\site-packages (from azure-ai-ml) (0.6.1)\n",
      "Requirement already satisfied: pydash>=6.0.0 in c:\\users\\user\\appdata\\local\\programs\\python\\python310\\lib\\site-packages (from azure-ai-ml) (8.0.1)\n",
      "Requirement already satisfied: pyjwt in c:\\users\\user\\appdata\\local\\programs\\python\\python310\\lib\\site-packages (from azure-ai-ml) (2.8.0)\n",
      "Requirement already satisfied: azure-core>=1.23.0 in c:\\users\\user\\appdata\\local\\programs\\python\\python310\\lib\\site-packages (from azure-ai-ml) (1.30.2)\n",
      "Requirement already satisfied: msrest>=0.6.18 in c:\\users\\user\\appdata\\local\\programs\\python\\python310\\lib\\site-packages (from azure-ai-ml) (0.7.1)\n",
      "Requirement already satisfied: azure-storage-file-datalake>=12.2.0 in c:\\users\\user\\appdata\\local\\programs\\python\\python310\\lib\\site-packages (from azure-ai-ml) (12.16.0)\n",
      "Requirement already satisfied: colorama in c:\\users\\user\\appdata\\local\\programs\\python\\python310\\lib\\site-packages (from azure-ai-ml) (0.4.6)\n",
      "Requirement already satisfied: tqdm in c:\\users\\user\\appdata\\local\\programs\\python\\python310\\lib\\site-packages (from azure-ai-ml) (4.66.4)\n",
      "Requirement already satisfied: azure-mgmt-core>=1.3.0 in c:\\users\\user\\appdata\\local\\programs\\python\\python310\\lib\\site-packages (from azure-ai-ml) (1.4.0)\n",
      "Requirement already satisfied: azure-storage-blob>=12.10.0 in c:\\users\\user\\appdata\\local\\programs\\python\\python310\\lib\\site-packages (from azure-ai-ml) (12.21.0)\n",
      "Requirement already satisfied: opencensus-ext-azure in c:\\users\\user\\appdata\\local\\programs\\python\\python310\\lib\\site-packages (from azure-ai-ml) (1.1.13)\n",
      "Requirement already satisfied: typing-extensions in c:\\users\\user\\appdata\\local\\programs\\python\\python310\\lib\\site-packages (from azure-ai-ml) (4.12.2)\n",
      "Requirement already satisfied: marshmallow>=3.5 in c:\\users\\user\\appdata\\local\\programs\\python\\python310\\lib\\site-packages (from azure-ai-ml) (3.21.3)\n",
      "Requirement already satisfied: pyyaml>=5.1.0 in c:\\users\\user\\appdata\\local\\programs\\python\\python310\\lib\\site-packages (from azure-ai-ml) (6.0.1)\n",
      "Requirement already satisfied: jsonschema>=4.0.0 in c:\\users\\user\\appdata\\local\\programs\\python\\python310\\lib\\site-packages (from azure-ai-ml) (4.23.0)\n",
      "Requirement already satisfied: opencensus-ext-logging in c:\\users\\user\\appdata\\local\\programs\\python\\python310\\lib\\site-packages (from azure-ai-ml) (0.1.1)\n",
      "Requirement already satisfied: azure-storage-file-share in c:\\users\\user\\appdata\\local\\programs\\python\\python310\\lib\\site-packages (from azure-ai-ml) (12.17.0)\n",
      "Requirement already satisfied: azure-common>=1.1 in c:\\users\\user\\appdata\\local\\programs\\python\\python310\\lib\\site-packages (from azure-ai-ml) (1.1.28)\n",
      "Requirement already satisfied: strictyaml in c:\\users\\user\\appdata\\local\\programs\\python\\python310\\lib\\site-packages (from azure-ai-ml) (1.7.3)\n",
      "Requirement already satisfied: requests>=2.21.0 in c:\\users\\user\\appdata\\local\\programs\\python\\python310\\lib\\site-packages (from azure-core>=1.23.0->azure-ai-ml) (2.32.3)\n",
      "Requirement already satisfied: six>=1.11.0 in c:\\users\\user\\appdata\\local\\programs\\python\\python310\\lib\\site-packages (from azure-core>=1.23.0->azure-ai-ml) (1.16.0)\n",
      "Requirement already satisfied: cryptography>=2.1.4 in c:\\users\\user\\appdata\\local\\programs\\python\\python310\\lib\\site-packages (from azure-storage-blob>=12.10.0->azure-ai-ml) (42.0.8)\n",
      "Requirement already satisfied: jsonschema-specifications>=2023.03.6 in c:\\users\\user\\appdata\\local\\programs\\python\\python310\\lib\\site-packages (from jsonschema>=4.0.0->azure-ai-ml) (2023.12.1)\n",
      "Requirement already satisfied: rpds-py>=0.7.1 in c:\\users\\user\\appdata\\local\\programs\\python\\python310\\lib\\site-packages (from jsonschema>=4.0.0->azure-ai-ml) (0.19.0)\n",
      "Requirement already satisfied: referencing>=0.28.4 in c:\\users\\user\\appdata\\local\\programs\\python\\python310\\lib\\site-packages (from jsonschema>=4.0.0->azure-ai-ml) (0.35.1)\n",
      "Requirement already satisfied: attrs>=22.2.0 in c:\\users\\user\\appdata\\local\\programs\\python\\python310\\lib\\site-packages (from jsonschema>=4.0.0->azure-ai-ml) (23.2.0)\n",
      "Requirement already satisfied: packaging>=17.0 in c:\\users\\user\\appdata\\local\\programs\\python\\python310\\lib\\site-packages (from marshmallow>=3.5->azure-ai-ml) (24.1)\n",
      "Requirement already satisfied: requests-oauthlib>=0.5.0 in c:\\users\\user\\appdata\\local\\programs\\python\\python310\\lib\\site-packages (from msrest>=0.6.18->azure-ai-ml) (2.0.0)\n",
      "Requirement already satisfied: certifi>=2017.4.17 in c:\\users\\user\\appdata\\local\\programs\\python\\python310\\lib\\site-packages (from msrest>=0.6.18->azure-ai-ml) (2024.7.4)\n",
      "Requirement already satisfied: psutil>=5.6.3 in c:\\users\\user\\appdata\\local\\programs\\python\\python310\\lib\\site-packages (from opencensus-ext-azure->azure-ai-ml) (6.0.0)\n",
      "Requirement already satisfied: opencensus<1.0.0,>=0.11.4 in c:\\users\\user\\appdata\\local\\programs\\python\\python310\\lib\\site-packages (from opencensus-ext-azure->azure-ai-ml) (0.11.4)\n",
      "Requirement already satisfied: azure-identity<2.0.0,>=1.5.0 in c:\\users\\user\\appdata\\local\\programs\\python\\python310\\lib\\site-packages (from opencensus-ext-azure->azure-ai-ml) (1.17.1)\n",
      "Requirement already satisfied: python-dateutil>=2.6.0 in c:\\users\\user\\appdata\\local\\programs\\python\\python310\\lib\\site-packages (from strictyaml->azure-ai-ml) (2.9.0.post0)\n",
      "Requirement already satisfied: msal>=1.24.0 in c:\\users\\user\\appdata\\local\\programs\\python\\python310\\lib\\site-packages (from azure-identity<2.0.0,>=1.5.0->opencensus-ext-azure->azure-ai-ml) (1.30.0)\n",
      "Requirement already satisfied: msal-extensions>=0.3.0 in c:\\users\\user\\appdata\\local\\programs\\python\\python310\\lib\\site-packages (from azure-identity<2.0.0,>=1.5.0->opencensus-ext-azure->azure-ai-ml) (1.2.0)\n",
      "Requirement already satisfied: cffi>=1.12 in c:\\users\\user\\appdata\\local\\programs\\python\\python310\\lib\\site-packages (from cryptography>=2.1.4->azure-storage-blob>=12.10.0->azure-ai-ml) (1.16.0)\n",
      "Requirement already satisfied: opencensus-context>=0.1.3 in c:\\users\\user\\appdata\\local\\programs\\python\\python310\\lib\\site-packages (from opencensus<1.0.0,>=0.11.4->opencensus-ext-azure->azure-ai-ml) (0.1.3)\n",
      "Requirement already satisfied: google-api-core<3.0.0,>=1.0.0 in c:\\users\\user\\appdata\\local\\programs\\python\\python310\\lib\\site-packages (from opencensus<1.0.0,>=0.11.4->opencensus-ext-azure->azure-ai-ml) (2.19.1)\n",
      "Requirement already satisfied: urllib3<3,>=1.21.1 in c:\\users\\user\\appdata\\local\\programs\\python\\python310\\lib\\site-packages (from requests>=2.21.0->azure-core>=1.23.0->azure-ai-ml) (2.2.2)\n",
      "Requirement already satisfied: idna<4,>=2.5 in c:\\users\\user\\appdata\\local\\programs\\python\\python310\\lib\\site-packages (from requests>=2.21.0->azure-core>=1.23.0->azure-ai-ml) (3.7)\n",
      "Requirement already satisfied: charset-normalizer<4,>=2 in c:\\users\\user\\appdata\\local\\programs\\python\\python310\\lib\\site-packages (from requests>=2.21.0->azure-core>=1.23.0->azure-ai-ml) (3.3.2)\n",
      "Requirement already satisfied: oauthlib>=3.0.0 in c:\\users\\user\\appdata\\local\\programs\\python\\python310\\lib\\site-packages (from requests-oauthlib>=0.5.0->msrest>=0.6.18->azure-ai-ml) (3.2.2)\n",
      "Requirement already satisfied: pycparser in c:\\users\\user\\appdata\\local\\programs\\python\\python310\\lib\\site-packages (from cffi>=1.12->cryptography>=2.1.4->azure-storage-blob>=12.10.0->azure-ai-ml) (2.22)\n",
      "Requirement already satisfied: google-auth<3.0.dev0,>=2.14.1 in c:\\users\\user\\appdata\\local\\programs\\python\\python310\\lib\\site-packages (from google-api-core<3.0.0,>=1.0.0->opencensus<1.0.0,>=0.11.4->opencensus-ext-azure->azure-ai-ml) (2.32.0)\n",
      "Requirement already satisfied: proto-plus<2.0.0dev,>=1.22.3 in c:\\users\\user\\appdata\\local\\programs\\python\\python310\\lib\\site-packages (from google-api-core<3.0.0,>=1.0.0->opencensus<1.0.0,>=0.11.4->opencensus-ext-azure->azure-ai-ml) (1.24.0)\n",
      "Requirement already satisfied: googleapis-common-protos<2.0.dev0,>=1.56.2 in c:\\users\\user\\appdata\\local\\programs\\python\\python310\\lib\\site-packages (from google-api-core<3.0.0,>=1.0.0->opencensus<1.0.0,>=0.11.4->opencensus-ext-azure->azure-ai-ml) (1.63.2)\n",
      "Requirement already satisfied: protobuf!=3.20.0,!=3.20.1,!=4.21.0,!=4.21.1,!=4.21.2,!=4.21.3,!=4.21.4,!=4.21.5,<6.0.0.dev0,>=3.19.5 in c:\\users\\user\\appdata\\local\\programs\\python\\python310\\lib\\site-packages (from google-api-core<3.0.0,>=1.0.0->opencensus<1.0.0,>=0.11.4->opencensus-ext-azure->azure-ai-ml) (5.27.2)\n",
      "Requirement already satisfied: portalocker<3,>=1.4 in c:\\users\\user\\appdata\\local\\programs\\python\\python310\\lib\\site-packages (from msal-extensions>=0.3.0->azure-identity<2.0.0,>=1.5.0->opencensus-ext-azure->azure-ai-ml) (2.10.1)\n",
      "Requirement already satisfied: rsa<5,>=3.1.4 in c:\\users\\user\\appdata\\local\\programs\\python\\python310\\lib\\site-packages (from google-auth<3.0.dev0,>=2.14.1->google-api-core<3.0.0,>=1.0.0->opencensus<1.0.0,>=0.11.4->opencensus-ext-azure->azure-ai-ml) (4.9)\n",
      "Requirement already satisfied: pyasn1-modules>=0.2.1 in c:\\users\\user\\appdata\\local\\programs\\python\\python310\\lib\\site-packages (from google-auth<3.0.dev0,>=2.14.1->google-api-core<3.0.0,>=1.0.0->opencensus<1.0.0,>=0.11.4->opencensus-ext-azure->azure-ai-ml) (0.4.0)\n",
      "Requirement already satisfied: cachetools<6.0,>=2.0.0 in c:\\users\\user\\appdata\\local\\programs\\python\\python310\\lib\\site-packages (from google-auth<3.0.dev0,>=2.14.1->google-api-core<3.0.0,>=1.0.0->opencensus<1.0.0,>=0.11.4->opencensus-ext-azure->azure-ai-ml) (5.4.0)\n",
      "Requirement already satisfied: pywin32>=226 in c:\\users\\user\\appdata\\local\\programs\\python\\python310\\lib\\site-packages (from portalocker<3,>=1.4->msal-extensions>=0.3.0->azure-identity<2.0.0,>=1.5.0->opencensus-ext-azure->azure-ai-ml) (306)\n",
      "Requirement already satisfied: pyasn1<0.7.0,>=0.4.6 in c:\\users\\user\\appdata\\local\\programs\\python\\python310\\lib\\site-packages (from pyasn1-modules>=0.2.1->google-auth<3.0.dev0,>=2.14.1->google-api-core<3.0.0,>=1.0.0->opencensus<1.0.0,>=0.11.4->opencensus-ext-azure->azure-ai-ml) (0.6.0)\n"
     ]
    },
    {
     "name": "stderr",
     "output_type": "stream",
     "text": [
      "\n",
      "[notice] A new release of pip is available: 23.0.1 -> 24.1.2\n",
      "[notice] To update, run: C:\\Users\\USER\\AppData\\Local\\Programs\\Python\\Python310\\python.exe -m pip install --upgrade pip\n"
     ]
    }
   ],
   "source": [
    "!pip install azure-ai-ml"
   ]
  },
  {
   "cell_type": "code",
   "execution_count": 3,
   "id": "16ff7593-c51e-4aad-8a2e-c6e161dd47c3",
   "metadata": {},
   "outputs": [
    {
     "name": "stdout",
     "output_type": "stream",
     "text": [
      "Data asset URI: azureml://subscriptions/a9a8a68b-6192-48c1-ba65-1994b763579d/resourcegroups/mlops/workspaces/mlwol3bxs001/datastores/workspaceblobstore/paths/UI/2024-07-20_105220_UTC/gold2024_07_19.parquet\n"
     ]
    }
   ],
   "source": [
    "import pandas as pd\n",
    "from azureml.fsspec import AzureMachineLearningFileSystem\n",
    "\n",
    "data_asset = ml_client.data.get(name=\"gold-price\", version=1)\n",
    "print(f\"Data asset URI: {data_asset.path}\")"
   ]
  },
  {
   "cell_type": "code",
   "execution_count": 8,
   "id": "222cafd4-4ab2-4632-bc75-7139ae8e1edb",
   "metadata": {},
   "outputs": [
    {
     "ename": "ModuleNotFoundError",
     "evalue": "No module named 'mlflow'",
     "output_type": "error",
     "traceback": [
      "\u001b[1;31m---------------------------------------------------------------------------\u001b[0m",
      "\u001b[1;31mModuleNotFoundError\u001b[0m                       Traceback (most recent call last)",
      "Cell \u001b[1;32mIn[8], line 1\u001b[0m\n\u001b[1;32m----> 1\u001b[0m \u001b[38;5;28;01mimport\u001b[39;00m \u001b[38;5;21;01mmlflow\u001b[39;00m\n\u001b[0;32m      3\u001b[0m client \u001b[38;5;241m=\u001b[39m mlflow\u001b[38;5;241m.\u001b[39mtracking\u001b[38;5;241m.\u001b[39mMlflowClient()\n",
      "\u001b[1;31mModuleNotFoundError\u001b[0m: No module named 'mlflow'"
     ]
    }
   ],
   "source": [
    "import mlflow\n",
    "\n",
    "client = mlflow.tracking.MlflowClient()"
   ]
  },
  {
   "cell_type": "code",
   "execution_count": 6,
   "id": "73120fcb-1ad8-42d0-87aa-e692534b4064",
   "metadata": {},
   "outputs": [
    {
     "ename": "NameError",
     "evalue": "name 'mlflow' is not defined",
     "output_type": "error",
     "traceback": [
      "\u001b[1;31m---------------------------------------------------------------------------\u001b[0m",
      "\u001b[1;31mNameError\u001b[0m                                 Traceback (most recent call last)",
      "Cell \u001b[1;32mIn[6], line 1\u001b[0m\n\u001b[1;32m----> 1\u001b[0m \u001b[43mmlflow\u001b[49m\u001b[38;5;241m.\u001b[39mregister_model(\u001b[38;5;124mf\u001b[39m\u001b[38;5;124m\"\u001b[39m\u001b[38;5;124mruns:/\u001b[39m\u001b[38;5;132;01m{\u001b[39;00mrun_id\u001b[38;5;132;01m}\u001b[39;00m\u001b[38;5;124m/\u001b[39m\u001b[38;5;132;01m{\u001b[39;00martifact_path\u001b[38;5;132;01m}\u001b[39;00m\u001b[38;5;124m\"\u001b[39m, model_name)\n",
      "\u001b[1;31mNameError\u001b[0m: name 'mlflow' is not defined"
     ]
    }
   ],
   "source": [
    "mlflow.register_model(f\"runs:/{run_id}/{artifact_path}\", model_name)"
   ]
  },
  {
   "cell_type": "code",
   "execution_count": null,
   "id": "89b90a5c-9bd5-488f-a972-9c848d9af1e1",
   "metadata": {},
   "outputs": [],
   "source": []
  }
 ],
 "metadata": {
  "kernelspec": {
   "display_name": "Python 3 (ipykernel)",
   "language": "python",
   "name": "python3"
  },
  "language_info": {
   "codemirror_mode": {
    "name": "ipython",
    "version": 3
   },
   "file_extension": ".py",
   "mimetype": "text/x-python",
   "name": "python",
   "nbconvert_exporter": "python",
   "pygments_lexer": "ipython3",
   "version": "3.10.11"
  }
 },
 "nbformat": 4,
 "nbformat_minor": 5
}
