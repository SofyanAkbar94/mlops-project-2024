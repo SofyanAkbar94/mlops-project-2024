{
 "cells": [
  {
   "cell_type": "markdown",
   "id": "692a60dc-12bc-4b44-9131-d9c3971ada62",
   "metadata": {},
   "source": [
    "## First trial running"
   ]
  },
  {
   "cell_type": "code",
   "execution_count": 7,
   "id": "4c043834-ec11-4005-a65c-254e8ecdbcea",
   "metadata": {},
   "outputs": [
    {
     "data": {
      "text/plain": [
       "<Experiment: artifact_location='file:///C:/Users/USER/Downloads/mlops-project-2024/mlflow-azure/mlflow_artifacts/1', creation_time=1721722769894, experiment_id='1', last_update_time=1721722769894, lifecycle_stage='active', name='RandomForestRegressor_Experiment', tags={}>"
      ]
     },
     "execution_count": 7,
     "metadata": {},
     "output_type": "execute_result"
    }
   ],
   "source": [
    "import mlflow\n",
    "import mlflow.sklearn\n",
    "from mlflow.tracking import MlflowClient\n",
    "from sklearn.ensemble import RandomForestRegressor\n",
    "from sklearn.model_selection import train_test_split\n",
    "from sklearn.metrics import mean_squared_error\n",
    "import pandas as pd\n",
    "import joblib\n",
    "\n",
    "MLFLOW_TRACKING_URI = \"http://127.0.0.1:5000\"\n",
    "mlflow.set_tracking_uri(MLFLOW_TRACKING_URI)\n",
    "mlflow.set_experiment(\"RandomForestRegressor_Experiment\")"
   ]
  },
  {
   "cell_type": "code",
   "execution_count": 22,
   "id": "5d045389-f8ea-46c6-ad78-420139a9e7ed",
   "metadata": {},
   "outputs": [],
   "source": [
    "from mlflow.tracking import MlflowClient\n",
    "\n",
    "client = MlflowClient()"
   ]
  },
  {
   "cell_type": "code",
   "execution_count": 27,
   "id": "7bce7379-0a75-4565-99b4-02d8cf432566",
   "metadata": {},
   "outputs": [
    {
     "name": "stderr",
     "output_type": "stream",
     "text": [
      "2024/07/23 20:57:19 WARNING mlflow.utils.autologging_utils: MLflow autologging encountered a warning: \"C:\\Users\\USER\\AppData\\Local\\Programs\\Python\\Python310\\lib\\site-packages\\mlflow\\types\\utils.py:406: UserWarning: Hint: Inferred schema contains integer column(s). Integer columns in Python cannot represent missing values. If your input data contains missing values at inference time, it will be encoded as floats and will cause a schema enforcement error. The best way to avoid this problem is to infer the model schema based on a realistic data sample (training dataset) that includes missing values. Alternatively, you can declare integer columns as doubles (float64) whenever these columns may have missing values. See `Handling Integers With Missing Values <https://www.mlflow.org/docs/latest/models.html#handling-integers-with-missing-values>`_ for more details.\"\n",
      "2024/07/23 20:57:23 WARNING mlflow.utils.autologging_utils: MLflow autologging encountered a warning: \"C:\\Users\\USER\\AppData\\Local\\Programs\\Python\\Python310\\lib\\site-packages\\mlflow\\types\\utils.py:406: UserWarning: Hint: Inferred schema contains integer column(s). Integer columns in Python cannot represent missing values. If your input data contains missing values at inference time, it will be encoded as floats and will cause a schema enforcement error. The best way to avoid this problem is to infer the model schema based on a realistic data sample (training dataset) that includes missing values. Alternatively, you can declare integer columns as doubles (float64) whenever these columns may have missing values. See `Handling Integers With Missing Values <https://www.mlflow.org/docs/latest/models.html#handling-integers-with-missing-values>`_ for more details.\"\n",
      "2024/07/23 20:57:29 WARNING mlflow.utils.autologging_utils: MLflow autologging encountered a warning: \"C:\\Users\\USER\\AppData\\Local\\Programs\\Python\\Python310\\lib\\site-packages\\mlflow\\types\\utils.py:406: UserWarning: Hint: Inferred schema contains integer column(s). Integer columns in Python cannot represent missing values. If your input data contains missing values at inference time, it will be encoded as floats and will cause a schema enforcement error. The best way to avoid this problem is to infer the model schema based on a realistic data sample (training dataset) that includes missing values. Alternatively, you can declare integer columns as doubles (float64) whenever these columns may have missing values. See `Handling Integers With Missing Values <https://www.mlflow.org/docs/latest/models.html#handling-integers-with-missing-values>`_ for more details.\"\n",
      "Registered model 'RandomForestRegressorModel' already exists. Creating a new version of this model...\n",
      "2024/07/23 20:57:35 INFO mlflow.store.model_registry.abstract_store: Waiting up to 300 seconds for model version to finish creation. Model name: RandomForestRegressorModel, version 6\n",
      "Created version '6' of model 'RandomForestRegressorModel'.\n"
     ]
    },
    {
     "name": "stdout",
     "output_type": "stream",
     "text": [
      "Run ID: 126a28056db841c4ad56a3b256d01ca0\n"
     ]
    }
   ],
   "source": [
    "# Jupyter notebooks typically don't use command line argument parsing\n",
    "alpha = 0.5  # Set alpha value directly\n",
    "\n",
    "with mlflow.start_run() as run:\n",
    "    # Load data\n",
    "    data = pd.read_csv(\"https://stmlwol3bxs001.blob.core.windows.net/azureml-blobstore-e2c46a71-de7e-4b08-adde-4cbb6825a7be/UI/2024-07-20_105220_UTC/gold2024_07_19.csv\")\n",
    "    features = data.drop(columns=[\"Date\", \"Adj Close\"])\n",
    "    target = data[\"Adj Close\"]\n",
    "    X_train, X_test, y_train, y_test = train_test_split(features, target, test_size=0.2, random_state=42)\n",
    "\n",
    "    # Train model\n",
    "    model = RandomForestRegressor(n_estimators=100, random_state=42)\n",
    "    model.fit(X_train, y_train)\n",
    "\n",
    "    # Evaluate model\n",
    "    predictions = model.predict(X_test)\n",
    "    mse = mean_squared_error(y_test, predictions)\n",
    "    mlflow.log_metric(\"mse\", mse)\n",
    "\n",
    "    # Log model manually to track it in the model registry\n",
    "    mlflow.sklearn.log_model(model, \"random_forest_model\", registered_model_name=\"RandomForestRegressorModel\")\n",
    "\n",
    "    # Save model\n",
    "    joblib.dump(model, \"random_forest_model.pkl\")\n",
    "\n",
    "# End the MLflow run explicitly (optional, as it's handled by the context manager)\n",
    "mlflow.end_run()\n",
    "\n",
    "print(\"Run ID:\", run.info.run_id)"
   ]
  },
  {
   "cell_type": "markdown",
   "id": "ac07e9dd-0077-47e6-b9bc-c5b22856c4ef",
   "metadata": {},
   "source": [
    "## Fix the Warning Code Above"
   ]
  },
  {
   "cell_type": "code",
   "execution_count": 3,
   "id": "d1b0b2a6-8e12-4033-8911-73615d6106b1",
   "metadata": {},
   "outputs": [
    {
     "name": "stderr",
     "output_type": "stream",
     "text": [
      "2024/07/23 15:39:10 INFO mlflow.tracking.fluent: Experiment with name 'gold-price-experiment' does not exist. Creating a new experiment.\n",
      "2024/07/23 15:39:10 WARNING mlflow.utils.autologging_utils: You are using an unsupported version of sklearn. If you encounter errors during autologging, try upgrading / downgrading sklearn to a supported version, or try upgrading MLflow.\n",
      "2024/07/23 15:39:10 INFO mlflow.tracking.fluent: Autologging successfully enabled for sklearn.\n",
      "Registered model 'RandomForestRegressorModel' already exists. Creating a new version of this model...\n",
      "2024/07/23 15:39:22 INFO mlflow.store.model_registry.abstract_store: Waiting up to 300 seconds for model version to finish creation. Model name: RandomForestRegressorModel, version 2\n"
     ]
    },
    {
     "name": "stdout",
     "output_type": "stream",
     "text": [
      "Run ID: 061575c256434209914c7bcef92d5df6\n"
     ]
    },
    {
     "name": "stderr",
     "output_type": "stream",
     "text": [
      "Created version '2' of model 'RandomForestRegressorModel'.\n"
     ]
    }
   ],
   "source": [
    "# Enable automatic logging\n",
    "mlflow.autolog()\n",
    "\n",
    "# Jupyter notebooks typically don't use command line argument parsing\n",
    "alpha = 0.5  # Set alpha value directly\n",
    "\n",
    "with mlflow.start_run() as run:\n",
    "    # Load data\n",
    "    data = pd.read_csv(\"https://stmlwol3bxs001.blob.core.windows.net/azureml-blobstore-e2c46a71-de7e-4b08-adde-4cbb6825a7be/UI/2024-07-20_105220_UTC/gold2024_07_19.csv\")\n",
    "    \n",
    "    # Handle missing values and convert integer columns to float\n",
    "    features = data.drop(columns=[\"Date\", \"Adj Close\"])\n",
    "    features = features.astype(float)  # Convert all columns to float\n",
    "    features = features.fillna(features.mean())  # Fill missing values with column mean\n",
    "    \n",
    "    target = data[\"Adj Close\"]\n",
    "    X_train, X_test, y_train, y_test = train_test_split(features, target, test_size=0.2, random_state=42)\n",
    "\n",
    "    # Train model\n",
    "    model = RandomForestRegressor(n_estimators=100, random_state=42)\n",
    "    model.fit(X_train, y_train)\n",
    "\n",
    "    # Evaluate model\n",
    "    predictions = model.predict(X_test)\n",
    "    mse = mean_squared_error(y_test, predictions)\n",
    "    mlflow.log_metric(\"mse\", mse)\n",
    "\n",
    "    # Log model manually to track it in the model registry\n",
    "    mlflow.sklearn.log_model(model, \"random_forest_model\", registered_model_name=\"RandomForestRegressorModel\")\n",
    "\n",
    "    # Save model\n",
    "    joblib.dump(model, \"random_forest_model.pkl\")\n",
    "\n",
    "# End the MLflow run explicitly (optional, as it's handled by the context manager)\n",
    "mlflow.end_run()\n",
    "\n",
    "print(\"Run ID:\", run.info.run_id)"
   ]
  },
  {
   "cell_type": "markdown",
   "id": "f51339d2-71a9-407f-86f9-4efc9230e8e6",
   "metadata": {},
   "source": [
    "## add mlflow.sklearn.autolog()"
   ]
  },
  {
   "cell_type": "code",
   "execution_count": 6,
   "id": "3fbc0a40-8076-4565-9053-e6694ca0dcd8",
   "metadata": {},
   "outputs": [
    {
     "name": "stderr",
     "output_type": "stream",
     "text": [
      "2024/07/23 15:58:02 WARNING mlflow.utils.autologging_utils: You are using an unsupported version of sklearn. If you encounter errors during autologging, try upgrading / downgrading sklearn to a supported version, or try upgrading MLflow.\n",
      "Registered model 'RandomForestRegressorModel' already exists. Creating a new version of this model...\n",
      "2024/07/23 15:58:14 INFO mlflow.store.model_registry.abstract_store: Waiting up to 300 seconds for model version to finish creation. Model name: RandomForestRegressorModel, version 5\n"
     ]
    },
    {
     "name": "stdout",
     "output_type": "stream",
     "text": [
      "Run ID: 92741b75db7644048d9bcaec86ccf9e1\n"
     ]
    },
    {
     "name": "stderr",
     "output_type": "stream",
     "text": [
      "Created version '5' of model 'RandomForestRegressorModel'.\n"
     ]
    }
   ],
   "source": [
    "# Enable automatic logging\n",
    "mlflow.sklearn.autolog()\n",
    "\n",
    "# Jupyter notebooks typically don't use command line argument parsing\n",
    "alpha = 0.5  # Set alpha value directly\n",
    "\n",
    "with mlflow.start_run() as run:\n",
    "    # Load data\n",
    "    data = pd.read_csv(\"https://stmlwol3bxs001.blob.core.windows.net/azureml-blobstore-e2c46a71-de7e-4b08-adde-4cbb6825a7be/UI/2024-07-20_105220_UTC/gold2024_07_19.csv\")\n",
    "\n",
    "    # Convert the 'Date' column to datetime\n",
    "    data['Date'] = pd.to_datetime(data['Date'])\n",
    "\n",
    "    # Handle missing values and convert integer columns to float\n",
    "    features = data.drop(columns=[\"Date\", \"Adj Close\"])\n",
    "    features = features.astype(float)  # Convert all columns to float\n",
    "    features = features.fillna(features.mean())  # Fill missing values with column mean\n",
    "    \n",
    "    target = data[\"Adj Close\"]\n",
    "    X_train, X_test, y_train, y_test = train_test_split(features, target, test_size=0.2, random_state=42)\n",
    "\n",
    "    # Train model\n",
    "    model = RandomForestRegressor(n_estimators=100, random_state=42)\n",
    "    model.fit(X_train, y_train)\n",
    "\n",
    "    # Evaluate model\n",
    "    predictions = model.predict(X_test)\n",
    "    mse = mean_squared_error(y_test, predictions)\n",
    "    mlflow.log_metric(\"mse\", mse)\n",
    "\n",
    "    # Log model manually to track it in the model registry\n",
    "    mlflow.sklearn.log_model(model, \"random_forest_model\", registered_model_name=\"RandomForestRegressorModel\")\n",
    "\n",
    "    # Save model\n",
    "    joblib.dump(model, \"random_forest_model.pkl\")\n",
    "\n",
    "# End the MLflow run explicitly (optional, as it's handled by the context manager)\n",
    "mlflow.end_run()\n",
    "\n",
    "print(\"Run ID:\", run.info.run_id)"
   ]
  },
  {
   "cell_type": "code",
   "execution_count": null,
   "id": "976a57ad-d1b7-4aba-bc8d-98c8ba00d99e",
   "metadata": {},
   "outputs": [],
   "source": []
  }
 ],
 "metadata": {
  "kernelspec": {
   "display_name": "Python 3 (ipykernel)",
   "language": "python",
   "name": "python3"
  },
  "language_info": {
   "codemirror_mode": {
    "name": "ipython",
    "version": 3
   },
   "file_extension": ".py",
   "mimetype": "text/x-python",
   "name": "python",
   "nbconvert_exporter": "python",
   "pygments_lexer": "ipython3",
   "version": "3.10.11"
  }
 },
 "nbformat": 4,
 "nbformat_minor": 5
}
